{
 "cells": [
  {
   "cell_type": "code",
   "execution_count": 1,
   "metadata": {
    "_cell_guid": "b1076dfc-b9ad-4769-8c92-a6c4dae69d19",
    "_uuid": "8f2839f25d086af736a60e9eeb907d3b93b6e0e5",
    "papermill": {
     "duration": 1.413192,
     "end_time": "2020-11-22T02:21:26.774413",
     "exception": false,
     "start_time": "2020-11-22T02:21:25.361221",
     "status": "completed"
    },
    "tags": []
   },
   "outputs": [],
   "source": [
    "import numpy as np # linear algebra\n",
    "import pandas as pd # data processing, CSV file I/O (e.g. pd.read_csv)\n",
    "\n",
    "import seaborn as sns\n",
    "import numpy as np\n",
    "import matplotlib.pyplot as plt\n",
    "import os"
   ]
  },
  {
   "cell_type": "code",
   "execution_count": 2,
   "metadata": {},
   "outputs": [
    {
     "name": "stdout",
     "output_type": "stream",
     "text": [
      "Requirement already satisfied: python-slugify in c:\\programdata\\anaconda3\\lib\\site-packages (4.0.1)\n",
      "Requirement already satisfied: text-unidecode>=1.3 in c:\\programdata\\anaconda3\\lib\\site-packages (from python-slugify) (1.3)\n"
     ]
    }
   ],
   "source": [
    "!pip install python-slugify"
   ]
  },
  {
   "cell_type": "code",
   "execution_count": 3,
   "metadata": {
    "papermill": {
     "duration": 13.350383,
     "end_time": "2020-11-22T02:21:40.143252",
     "exception": false,
     "start_time": "2020-11-22T02:21:26.792869",
     "status": "completed"
    },
    "tags": []
   },
   "outputs": [
    {
     "name": "stdout",
     "output_type": "stream",
     "text": [
      "Requirement already satisfied: scorecardpy in c:\\programdata\\anaconda3\\lib\\site-packages (0.1.9.2)\n",
      "Requirement already satisfied: pandas>=0.25.0 in c:\\programdata\\anaconda3\\lib\\site-packages (from scorecardpy) (1.0.5)\n",
      "Requirement already satisfied: numpy in c:\\programdata\\anaconda3\\lib\\site-packages (from scorecardpy) (1.18.5)\n",
      "Requirement already satisfied: matplotlib in c:\\programdata\\anaconda3\\lib\\site-packages (from scorecardpy) (3.2.2)\n",
      "Requirement already satisfied: scikit-learn>=0.19.1 in c:\\programdata\\anaconda3\\lib\\site-packages (from scorecardpy) (0.23.1)\n",
      "Requirement already satisfied: python-dateutil>=2.6.1 in c:\\programdata\\anaconda3\\lib\\site-packages (from pandas>=0.25.0->scorecardpy) (2.8.1)\n",
      "Requirement already satisfied: pytz>=2017.2 in c:\\programdata\\anaconda3\\lib\\site-packages (from pandas>=0.25.0->scorecardpy) (2020.1)\n",
      "Requirement already satisfied: cycler>=0.10 in c:\\programdata\\anaconda3\\lib\\site-packages (from matplotlib->scorecardpy) (0.10.0)\n",
      "Requirement already satisfied: pyparsing!=2.0.4,!=2.1.2,!=2.1.6,>=2.0.1 in c:\\programdata\\anaconda3\\lib\\site-packages (from matplotlib->scorecardpy) (2.4.7)\n",
      "Requirement already satisfied: kiwisolver>=1.0.1 in c:\\programdata\\anaconda3\\lib\\site-packages (from matplotlib->scorecardpy) (1.2.0)\n",
      "Requirement already satisfied: scipy>=0.19.1 in c:\\programdata\\anaconda3\\lib\\site-packages (from scikit-learn>=0.19.1->scorecardpy) (1.5.0)\n",
      "Requirement already satisfied: joblib>=0.11 in c:\\programdata\\anaconda3\\lib\\site-packages (from scikit-learn>=0.19.1->scorecardpy) (0.16.0)\n",
      "Requirement already satisfied: threadpoolctl>=2.0.0 in c:\\programdata\\anaconda3\\lib\\site-packages (from scikit-learn>=0.19.1->scorecardpy) (2.1.0)\n",
      "Requirement already satisfied: six>=1.5 in c:\\programdata\\anaconda3\\lib\\site-packages (from python-dateutil>=2.6.1->pandas>=0.25.0->scorecardpy) (1.15.0)\n"
     ]
    }
   ],
   "source": [
    "!pip install scorecardpy\n",
    "\n",
    "import scorecardpy as sc"
   ]
  },
  {
   "cell_type": "markdown",
   "metadata": {},
   "source": [
    "### Dataset from Kaggle"
   ]
  },
  {
   "cell_type": "code",
   "execution_count": 4,
   "metadata": {
    "_cell_guid": "79c7e3d0-c299-4dcb-8224-4455121ee9b0",
    "_uuid": "d629ff2d2480ee46fbb7e2d37f6b5fab8052498a",
    "papermill": {
     "duration": 3.488358,
     "end_time": "2020-11-22T02:21:43.654572",
     "exception": false,
     "start_time": "2020-11-22T02:21:40.166214",
     "status": "completed"
    },
    "tags": []
   },
   "outputs": [
    {
     "data": {
      "text/html": [
       "<div>\n",
       "<style scoped>\n",
       "    .dataframe tbody tr th:only-of-type {\n",
       "        vertical-align: middle;\n",
       "    }\n",
       "\n",
       "    .dataframe tbody tr th {\n",
       "        vertical-align: top;\n",
       "    }\n",
       "\n",
       "    .dataframe thead th {\n",
       "        text-align: right;\n",
       "    }\n",
       "</style>\n",
       "<table border=\"1\" class=\"dataframe\">\n",
       "  <thead>\n",
       "    <tr style=\"text-align: right;\">\n",
       "      <th></th>\n",
       "      <th>category</th>\n",
       "      <th>headline</th>\n",
       "      <th>authors</th>\n",
       "      <th>link</th>\n",
       "      <th>short_description</th>\n",
       "      <th>date</th>\n",
       "    </tr>\n",
       "  </thead>\n",
       "  <tbody>\n",
       "    <tr>\n",
       "      <th>0</th>\n",
       "      <td>CRIME</td>\n",
       "      <td>There Were 2 Mass Shootings In Texas Last Week...</td>\n",
       "      <td>Melissa Jeltsen</td>\n",
       "      <td>https://www.huffingtonpost.com/entry/texas-ama...</td>\n",
       "      <td>She left her husband. He killed their children...</td>\n",
       "      <td>2018-05-26</td>\n",
       "    </tr>\n",
       "    <tr>\n",
       "      <th>1</th>\n",
       "      <td>ENTERTAINMENT</td>\n",
       "      <td>Will Smith Joins Diplo And Nicky Jam For The 2...</td>\n",
       "      <td>Andy McDonald</td>\n",
       "      <td>https://www.huffingtonpost.com/entry/will-smit...</td>\n",
       "      <td>Of course it has a song.</td>\n",
       "      <td>2018-05-26</td>\n",
       "    </tr>\n",
       "    <tr>\n",
       "      <th>2</th>\n",
       "      <td>ENTERTAINMENT</td>\n",
       "      <td>Hugh Grant Marries For The First Time At Age 57</td>\n",
       "      <td>Ron Dicker</td>\n",
       "      <td>https://www.huffingtonpost.com/entry/hugh-gran...</td>\n",
       "      <td>The actor and his longtime girlfriend Anna Ebe...</td>\n",
       "      <td>2018-05-26</td>\n",
       "    </tr>\n",
       "    <tr>\n",
       "      <th>3</th>\n",
       "      <td>ENTERTAINMENT</td>\n",
       "      <td>Jim Carrey Blasts 'Castrato' Adam Schiff And D...</td>\n",
       "      <td>Ron Dicker</td>\n",
       "      <td>https://www.huffingtonpost.com/entry/jim-carre...</td>\n",
       "      <td>The actor gives Dems an ass-kicking for not fi...</td>\n",
       "      <td>2018-05-26</td>\n",
       "    </tr>\n",
       "    <tr>\n",
       "      <th>4</th>\n",
       "      <td>ENTERTAINMENT</td>\n",
       "      <td>Julianna Margulies Uses Donald Trump Poop Bags...</td>\n",
       "      <td>Ron Dicker</td>\n",
       "      <td>https://www.huffingtonpost.com/entry/julianna-...</td>\n",
       "      <td>The \"Dietland\" actress said using the bags is ...</td>\n",
       "      <td>2018-05-26</td>\n",
       "    </tr>\n",
       "  </tbody>\n",
       "</table>\n",
       "</div>"
      ],
      "text/plain": [
       "        category                                           headline  \\\n",
       "0          CRIME  There Were 2 Mass Shootings In Texas Last Week...   \n",
       "1  ENTERTAINMENT  Will Smith Joins Diplo And Nicky Jam For The 2...   \n",
       "2  ENTERTAINMENT    Hugh Grant Marries For The First Time At Age 57   \n",
       "3  ENTERTAINMENT  Jim Carrey Blasts 'Castrato' Adam Schiff And D...   \n",
       "4  ENTERTAINMENT  Julianna Margulies Uses Donald Trump Poop Bags...   \n",
       "\n",
       "           authors                                               link  \\\n",
       "0  Melissa Jeltsen  https://www.huffingtonpost.com/entry/texas-ama...   \n",
       "1    Andy McDonald  https://www.huffingtonpost.com/entry/will-smit...   \n",
       "2       Ron Dicker  https://www.huffingtonpost.com/entry/hugh-gran...   \n",
       "3       Ron Dicker  https://www.huffingtonpost.com/entry/jim-carre...   \n",
       "4       Ron Dicker  https://www.huffingtonpost.com/entry/julianna-...   \n",
       "\n",
       "                                   short_description       date  \n",
       "0  She left her husband. He killed their children... 2018-05-26  \n",
       "1                           Of course it has a song. 2018-05-26  \n",
       "2  The actor and his longtime girlfriend Anna Ebe... 2018-05-26  \n",
       "3  The actor gives Dems an ass-kicking for not fi... 2018-05-26  \n",
       "4  The \"Dietland\" actress said using the bags is ... 2018-05-26  "
      ]
     },
     "execution_count": 4,
     "metadata": {},
     "output_type": "execute_result"
    }
   ],
   "source": [
    "path = 'News_Category_Dataset_v2.json'\n",
    "df = pd.read_json(path, lines=True)\n",
    "df.head()"
   ]
  },
  {
   "cell_type": "code",
   "execution_count": 5,
   "metadata": {
    "papermill": {
     "duration": 0.035146,
     "end_time": "2020-11-22T02:21:43.713071",
     "exception": false,
     "start_time": "2020-11-22T02:21:43.677925",
     "status": "completed"
    },
    "tags": []
   },
   "outputs": [
    {
     "data": {
      "text/plain": [
       "(200853, 6)"
      ]
     },
     "execution_count": 5,
     "metadata": {},
     "output_type": "execute_result"
    }
   ],
   "source": [
    "df.shape"
   ]
  },
  {
   "cell_type": "code",
   "execution_count": 6,
   "metadata": {
    "papermill": {
     "duration": 0.037183,
     "end_time": "2020-11-22T02:21:43.774511",
     "exception": false,
     "start_time": "2020-11-22T02:21:43.737328",
     "status": "completed"
    },
    "tags": []
   },
   "outputs": [
    {
     "data": {
      "text/plain": [
       "Index(['category', 'headline', 'authors', 'link', 'short_description', 'date'], dtype='object')"
      ]
     },
     "execution_count": 6,
     "metadata": {},
     "output_type": "execute_result"
    }
   ],
   "source": [
    "df.columns"
   ]
  },
  {
   "cell_type": "code",
   "execution_count": 7,
   "metadata": {
    "papermill": {
     "duration": 2.994873,
     "end_time": "2020-11-22T02:21:46.801495",
     "exception": false,
     "start_time": "2020-11-22T02:21:43.806622",
     "status": "completed"
    },
    "tags": []
   },
   "outputs": [
    {
     "data": {
      "text/plain": [
       "((200853, 6), (139658,), (159557,), (200837,))"
      ]
     },
     "execution_count": 7,
     "metadata": {},
     "output_type": "execute_result"
    }
   ],
   "source": [
    "df.shape, \\\n",
    "df.groupby(by=['authors', 'date']).size().shape, \\\n",
    "df.groupby(by=['authors', 'date', 'category']).size().shape, \\\n",
    "df.groupby(by=['authors', 'date', 'category', 'headline', 'link','headline']).size().shape "
   ]
  },
  {
   "cell_type": "markdown",
   "metadata": {
    "papermill": {
     "duration": 0.025298,
     "end_time": "2020-11-22T02:21:46.852678",
     "exception": false,
     "start_time": "2020-11-22T02:21:46.827380",
     "status": "completed"
    },
    "tags": []
   },
   "source": [
    "### Crearé un target fictició (tuvo buenas aceptación)"
   ]
  },
  {
   "cell_type": "code",
   "execution_count": 8,
   "metadata": {
    "papermill": {
     "duration": 0.277579,
     "end_time": "2020-11-22T02:21:47.156188",
     "exception": false,
     "start_time": "2020-11-22T02:21:46.878609",
     "status": "completed"
    },
    "tags": []
   },
   "outputs": [
    {
     "data": {
      "text/plain": [
       "9    614\n",
       "q    400\n",
       "z    310\n",
       "#    209\n",
       "‘    199\n",
       "\"    167\n",
       "(     47\n",
       "$     31\n",
       "x     25\n",
       "_      7\n",
       "[      7\n",
       "*      5\n",
       "​      4\n",
       ".      3\n",
       "“      3\n",
       "é      2\n",
       "¡      2\n",
       "¿      1\n",
       "ç      1\n",
       "έ      1\n",
       "Name: init, dtype: int64"
      ]
     },
     "execution_count": 8,
     "metadata": {},
     "output_type": "execute_result"
    }
   ],
   "source": [
    "df['init'] = df['headline'].apply(lambda _: str(_)[0].lower() if len(_) > 0 else '_')\n",
    "df['init'].value_counts().tail(20)                                  "
   ]
  },
  {
   "cell_type": "code",
   "execution_count": 9,
   "metadata": {
    "papermill": {
     "duration": 31.476123,
     "end_time": "2020-11-22T02:22:18.679241",
     "exception": false,
     "start_time": "2020-11-22T02:21:47.203118",
     "status": "completed"
    },
    "tags": []
   },
   "outputs": [
    {
     "data": {
      "text/plain": [
       "0.0    0.508188\n",
       "1.0    0.491812\n",
       "Name: target_buena_aceptación, dtype: float64"
      ]
     },
     "execution_count": 9,
     "metadata": {},
     "output_type": "execute_result"
    }
   ],
   "source": [
    "import random\n",
    "random.randint(0,1)\n",
    "aleatorio_0_1 = [0 if random.random() + 0.1 < 0.5 else round(random.uniform(0, 1), 0) for _ in range(df.shape[0])]\n",
    "random.shuffle(aleatorio_0_1)\n",
    "\n",
    "df['target_buena_aceptación'] = aleatorio_0_1\n",
    "df['target_buena_aceptación'] = df[['headline', 'target_buena_aceptación']].apply(lambda _: 0 if _[0].lower().startswith('p') else _[1], axis=1)\n",
    "df['target_buena_aceptación'] = df[['headline', 'target_buena_aceptación']].apply(lambda _: 0 if _[0].lower().startswith('b') else _[1], axis=1)\n",
    "df['target_buena_aceptación'] = df[['headline', 'target_buena_aceptación']].apply(lambda _: 1 if _[0].lower().startswith('t') else _[1], axis=1)\n",
    "df['target_buena_aceptación'] = df[['headline', 'target_buena_aceptación']].apply(lambda _: 1 if _[0].lower().startswith('w') else _[1], axis=1)\n",
    "df['target_buena_aceptación'] = df[['category', 'target_buena_aceptación']].apply(lambda _: 1 if _[0].lower().startswith('s') else _[1], axis=1)\n",
    "df['target_buena_aceptación'] = df[['category', 'target_buena_aceptación']].apply(lambda _: 0 if _[0].lower().startswith('q') else _[1], axis=1)\n",
    "df['target_buena_aceptación'] = df[['category', 'target_buena_aceptación']].apply(lambda _: 0 if _[0].lower().startswith('g') else _[1], axis=1)\n",
    "df['target_buena_aceptación'] = df[['category', 'target_buena_aceptación']].apply(lambda _: 1 if _[0].lower().startswith('b') else _[1], axis=1)\n",
    "df['target_buena_aceptación'] = df[['init', 'target_buena_aceptación']].apply(lambda _: 0 if _[0].lower().startswith('z') else _[1], axis=1)\n",
    "df['target_buena_aceptación'].value_counts(dropna=False, normalize=True)\n",
    "df['target_buena_aceptación'].value_counts(dropna=False, normalize=True)"
   ]
  },
  {
   "cell_type": "code",
   "execution_count": null,
   "metadata": {
    "papermill": {
     "duration": 0.025759,
     "end_time": "2020-11-22T02:22:18.731172",
     "exception": false,
     "start_time": "2020-11-22T02:22:18.705413",
     "status": "completed"
    },
    "tags": []
   },
   "outputs": [],
   "source": []
  },
  {
   "cell_type": "markdown",
   "metadata": {
    "papermill": {
     "duration": 0.025862,
     "end_time": "2020-11-22T02:22:18.783154",
     "exception": false,
     "start_time": "2020-11-22T02:22:18.757292",
     "status": "completed"
    },
    "tags": []
   },
   "source": [
    "### Limpiaré las variables categoricas a usar (authors y category)"
   ]
  },
  {
   "cell_type": "code",
   "execution_count": 10,
   "metadata": {
    "papermill": {
     "duration": 8.961928,
     "end_time": "2020-11-22T02:22:27.771142",
     "exception": false,
     "start_time": "2020-11-22T02:22:18.809214",
     "status": "completed"
    },
    "tags": []
   },
   "outputs": [
    {
     "data": {
      "text/html": [
       "<div>\n",
       "<style scoped>\n",
       "    .dataframe tbody tr th:only-of-type {\n",
       "        vertical-align: middle;\n",
       "    }\n",
       "\n",
       "    .dataframe tbody tr th {\n",
       "        vertical-align: top;\n",
       "    }\n",
       "\n",
       "    .dataframe thead th {\n",
       "        text-align: right;\n",
       "    }\n",
       "</style>\n",
       "<table border=\"1\" class=\"dataframe\">\n",
       "  <thead>\n",
       "    <tr style=\"text-align: right;\">\n",
       "      <th></th>\n",
       "      <th>category</th>\n",
       "      <th>headline</th>\n",
       "      <th>authors</th>\n",
       "      <th>link</th>\n",
       "      <th>short_description</th>\n",
       "      <th>date</th>\n",
       "      <th>init</th>\n",
       "      <th>target_buena_aceptación</th>\n",
       "    </tr>\n",
       "  </thead>\n",
       "  <tbody>\n",
       "    <tr>\n",
       "      <th>0</th>\n",
       "      <td>crime</td>\n",
       "      <td>There Were 2 Mass Shootings In Texas Last Week...</td>\n",
       "      <td>melissa-jeltsen</td>\n",
       "      <td>https://www.huffingtonpost.com/entry/texas-ama...</td>\n",
       "      <td>She left her husband. He killed their children...</td>\n",
       "      <td>2018-05-26</td>\n",
       "      <td>t</td>\n",
       "      <td>1.0</td>\n",
       "    </tr>\n",
       "    <tr>\n",
       "      <th>1</th>\n",
       "      <td>entertainment</td>\n",
       "      <td>Will Smith Joins Diplo And Nicky Jam For The 2...</td>\n",
       "      <td>andy-mcdonald</td>\n",
       "      <td>https://www.huffingtonpost.com/entry/will-smit...</td>\n",
       "      <td>Of course it has a song.</td>\n",
       "      <td>2018-05-26</td>\n",
       "      <td>w</td>\n",
       "      <td>1.0</td>\n",
       "    </tr>\n",
       "    <tr>\n",
       "      <th>2</th>\n",
       "      <td>entertainment</td>\n",
       "      <td>Hugh Grant Marries For The First Time At Age 57</td>\n",
       "      <td>ron-dicker</td>\n",
       "      <td>https://www.huffingtonpost.com/entry/hugh-gran...</td>\n",
       "      <td>The actor and his longtime girlfriend Anna Ebe...</td>\n",
       "      <td>2018-05-26</td>\n",
       "      <td>h</td>\n",
       "      <td>1.0</td>\n",
       "    </tr>\n",
       "    <tr>\n",
       "      <th>3</th>\n",
       "      <td>entertainment</td>\n",
       "      <td>Jim Carrey Blasts 'Castrato' Adam Schiff And D...</td>\n",
       "      <td>ron-dicker</td>\n",
       "      <td>https://www.huffingtonpost.com/entry/jim-carre...</td>\n",
       "      <td>The actor gives Dems an ass-kicking for not fi...</td>\n",
       "      <td>2018-05-26</td>\n",
       "      <td>j</td>\n",
       "      <td>0.0</td>\n",
       "    </tr>\n",
       "    <tr>\n",
       "      <th>4</th>\n",
       "      <td>entertainment</td>\n",
       "      <td>Julianna Margulies Uses Donald Trump Poop Bags...</td>\n",
       "      <td>ron-dicker</td>\n",
       "      <td>https://www.huffingtonpost.com/entry/julianna-...</td>\n",
       "      <td>The \"Dietland\" actress said using the bags is ...</td>\n",
       "      <td>2018-05-26</td>\n",
       "      <td>j</td>\n",
       "      <td>0.0</td>\n",
       "    </tr>\n",
       "  </tbody>\n",
       "</table>\n",
       "</div>"
      ],
      "text/plain": [
       "        category                                           headline  \\\n",
       "0          crime  There Were 2 Mass Shootings In Texas Last Week...   \n",
       "1  entertainment  Will Smith Joins Diplo And Nicky Jam For The 2...   \n",
       "2  entertainment    Hugh Grant Marries For The First Time At Age 57   \n",
       "3  entertainment  Jim Carrey Blasts 'Castrato' Adam Schiff And D...   \n",
       "4  entertainment  Julianna Margulies Uses Donald Trump Poop Bags...   \n",
       "\n",
       "           authors                                               link  \\\n",
       "0  melissa-jeltsen  https://www.huffingtonpost.com/entry/texas-ama...   \n",
       "1    andy-mcdonald  https://www.huffingtonpost.com/entry/will-smit...   \n",
       "2       ron-dicker  https://www.huffingtonpost.com/entry/hugh-gran...   \n",
       "3       ron-dicker  https://www.huffingtonpost.com/entry/jim-carre...   \n",
       "4       ron-dicker  https://www.huffingtonpost.com/entry/julianna-...   \n",
       "\n",
       "                                   short_description       date init  \\\n",
       "0  She left her husband. He killed their children... 2018-05-26    t   \n",
       "1                           Of course it has a song. 2018-05-26    w   \n",
       "2  The actor and his longtime girlfriend Anna Ebe... 2018-05-26    h   \n",
       "3  The actor gives Dems an ass-kicking for not fi... 2018-05-26    j   \n",
       "4  The \"Dietland\" actress said using the bags is ... 2018-05-26    j   \n",
       "\n",
       "   target_buena_aceptación  \n",
       "0                      1.0  \n",
       "1                      1.0  \n",
       "2                      1.0  \n",
       "3                      0.0  \n",
       "4                      0.0  "
      ]
     },
     "execution_count": 10,
     "metadata": {},
     "output_type": "execute_result"
    }
   ],
   "source": [
    "from slugify import slugify\n",
    "\n",
    "df['authors'] = df['authors'].apply(slugify)\n",
    "df['category'] = df['category'].apply(slugify)\n",
    "df.head()"
   ]
  },
  {
   "cell_type": "code",
   "execution_count": 11,
   "metadata": {
    "papermill": {
     "duration": 0.051775,
     "end_time": "2020-11-22T02:22:27.850377",
     "exception": false,
     "start_time": "2020-11-22T02:22:27.798602",
     "status": "completed"
    },
    "tags": []
   },
   "outputs": [
    {
     "data": {
      "text/html": [
       "<div>\n",
       "<style scoped>\n",
       "    .dataframe tbody tr th:only-of-type {\n",
       "        vertical-align: middle;\n",
       "    }\n",
       "\n",
       "    .dataframe tbody tr th {\n",
       "        vertical-align: top;\n",
       "    }\n",
       "\n",
       "    .dataframe thead th {\n",
       "        text-align: right;\n",
       "    }\n",
       "</style>\n",
       "<table border=\"1\" class=\"dataframe\">\n",
       "  <thead>\n",
       "    <tr style=\"text-align: right;\">\n",
       "      <th></th>\n",
       "      <th>category</th>\n",
       "      <th>headline</th>\n",
       "      <th>authors</th>\n",
       "      <th>link</th>\n",
       "      <th>short_description</th>\n",
       "      <th>date</th>\n",
       "      <th>init</th>\n",
       "      <th>target_buena_aceptación</th>\n",
       "    </tr>\n",
       "  </thead>\n",
       "  <tbody>\n",
       "    <tr>\n",
       "      <th>200848</th>\n",
       "      <td>tech</td>\n",
       "      <td>RIM CEO Thorsten Heins' 'Significant' Plans Fo...</td>\n",
       "      <td>reuters-reuters</td>\n",
       "      <td>https://www.huffingtonpost.com/entry/rim-ceo-t...</td>\n",
       "      <td>Verizon Wireless and AT&amp;T are already promotin...</td>\n",
       "      <td>2012-01-28</td>\n",
       "      <td>r</td>\n",
       "      <td>1.0</td>\n",
       "    </tr>\n",
       "    <tr>\n",
       "      <th>200849</th>\n",
       "      <td>sports</td>\n",
       "      <td>Maria Sharapova Stunned By Victoria Azarenka I...</td>\n",
       "      <td></td>\n",
       "      <td>https://www.huffingtonpost.com/entry/maria-sha...</td>\n",
       "      <td>Afterward, Azarenka, more effusive with the pr...</td>\n",
       "      <td>2012-01-28</td>\n",
       "      <td>m</td>\n",
       "      <td>1.0</td>\n",
       "    </tr>\n",
       "    <tr>\n",
       "      <th>200850</th>\n",
       "      <td>sports</td>\n",
       "      <td>Giants Over Patriots, Jets Over Colts Among  M...</td>\n",
       "      <td></td>\n",
       "      <td>https://www.huffingtonpost.com/entry/super-bow...</td>\n",
       "      <td>Leading up to Super Bowl XLVI, the most talked...</td>\n",
       "      <td>2012-01-28</td>\n",
       "      <td>g</td>\n",
       "      <td>1.0</td>\n",
       "    </tr>\n",
       "    <tr>\n",
       "      <th>200851</th>\n",
       "      <td>sports</td>\n",
       "      <td>Aldon Smith Arrested: 49ers Linebacker Busted ...</td>\n",
       "      <td></td>\n",
       "      <td>https://www.huffingtonpost.com/entry/aldon-smi...</td>\n",
       "      <td>CORRECTION: An earlier version of this story i...</td>\n",
       "      <td>2012-01-28</td>\n",
       "      <td>a</td>\n",
       "      <td>1.0</td>\n",
       "    </tr>\n",
       "    <tr>\n",
       "      <th>200852</th>\n",
       "      <td>sports</td>\n",
       "      <td>Dwight Howard Rips Teammates After Magic Loss ...</td>\n",
       "      <td></td>\n",
       "      <td>https://www.huffingtonpost.com/entry/dwight-ho...</td>\n",
       "      <td>The five-time all-star center tore into his te...</td>\n",
       "      <td>2012-01-28</td>\n",
       "      <td>d</td>\n",
       "      <td>1.0</td>\n",
       "    </tr>\n",
       "  </tbody>\n",
       "</table>\n",
       "</div>"
      ],
      "text/plain": [
       "       category                                           headline  \\\n",
       "200848     tech  RIM CEO Thorsten Heins' 'Significant' Plans Fo...   \n",
       "200849   sports  Maria Sharapova Stunned By Victoria Azarenka I...   \n",
       "200850   sports  Giants Over Patriots, Jets Over Colts Among  M...   \n",
       "200851   sports  Aldon Smith Arrested: 49ers Linebacker Busted ...   \n",
       "200852   sports  Dwight Howard Rips Teammates After Magic Loss ...   \n",
       "\n",
       "                authors                                               link  \\\n",
       "200848  reuters-reuters  https://www.huffingtonpost.com/entry/rim-ceo-t...   \n",
       "200849                   https://www.huffingtonpost.com/entry/maria-sha...   \n",
       "200850                   https://www.huffingtonpost.com/entry/super-bow...   \n",
       "200851                   https://www.huffingtonpost.com/entry/aldon-smi...   \n",
       "200852                   https://www.huffingtonpost.com/entry/dwight-ho...   \n",
       "\n",
       "                                        short_description       date init  \\\n",
       "200848  Verizon Wireless and AT&T are already promotin... 2012-01-28    r   \n",
       "200849  Afterward, Azarenka, more effusive with the pr... 2012-01-28    m   \n",
       "200850  Leading up to Super Bowl XLVI, the most talked... 2012-01-28    g   \n",
       "200851  CORRECTION: An earlier version of this story i... 2012-01-28    a   \n",
       "200852  The five-time all-star center tore into his te... 2012-01-28    d   \n",
       "\n",
       "        target_buena_aceptación  \n",
       "200848                      1.0  \n",
       "200849                      1.0  \n",
       "200850                      1.0  \n",
       "200851                      1.0  \n",
       "200852                      1.0  "
      ]
     },
     "execution_count": 11,
     "metadata": {},
     "output_type": "execute_result"
    }
   ],
   "source": [
    "df.tail()"
   ]
  },
  {
   "cell_type": "markdown",
   "metadata": {
    "papermill": {
     "duration": 0.027513,
     "end_time": "2020-11-22T02:22:27.906265",
     "exception": false,
     "start_time": "2020-11-22T02:22:27.878752",
     "status": "completed"
    },
    "tags": []
   },
   "source": [
    "#### Creando cortes acorde a la mayor probabilidad del target"
   ]
  },
  {
   "cell_type": "code",
   "execution_count": 12,
   "metadata": {
    "papermill": {
     "duration": 0.070113,
     "end_time": "2020-11-22T02:22:28.004329",
     "exception": false,
     "start_time": "2020-11-22T02:22:27.934216",
     "status": "completed"
    },
    "tags": []
   },
   "outputs": [],
   "source": [
    "def _encoder_cat_prob(data, col_eval, col_target='target', val_target=1, sufijo='_encoder_prob', drop=False,\n",
    "                     letal_group=True, window_letal=0.1, sufijo_letal='_letal_group'):\n",
    "    \"\"\"\n",
    "    APLICADO A CATEGORIAS MUY POBLADAS, como departamento, subsector economico del cliente, cargos de trabajo \n",
    "    \n",
    "    return: \n",
    "           Obtendremos un valor numérico, donde a mas alto mas porbabilidad de caer en el valor del target indicado,\n",
    "           indirectamnete este resultado compirme categorias que tengan igual probabilidad hacia el target, lo cual \n",
    "           podremos contrastar dejando el valor drop=False \n",
    "    \"\"\"\n",
    "    \n",
    "    dicc_map_e = {} \n",
    "    new_col = col_eval + sufijo\n",
    "    letal_col = col_eval + sufijo_letal\n",
    "    col_woe = col_eval + '_encoder_woe'\n",
    "    letal_woe = '_letal_woe'\n",
    "    \n",
    "    for val in data[col_eval].unique():\n",
    "        dicc_map_e[val] = round(\n",
    "            data[data[col_eval] == val][col_target].value_counts(normalize=True).to_dict().get(val_target, 0), \n",
    "            1\n",
    "        )\n",
    "        \n",
    "    data[new_col] = data[col_eval].map(dicc_map_e)\n",
    "    \n",
    "    #print(data[col_eval].value_counts())\n",
    "    if drop:\n",
    "        del data[col_eval]\n",
    "        \n",
    "    print(\"/\"*100)\n",
    "    print(data[new_col].value_counts())\n",
    "    \n",
    "    #### COMPARANDO CON WOE / IV\n",
    "    cortes = sc.woebin(\n",
    "        data[[col_eval, col_target]],\n",
    "        y=col_target\n",
    "    )\n",
    "    dic_maxprob_corte = {}\n",
    "    for k, v in cortes.items():\n",
    "        #print(k, type(v))\n",
    "        #print(\">\"*20, ' ', k.upper())\n",
    "        v = v.sort_values(by=['badprob'], ascending=False).reset_index(drop=True).reset_index().rename(columns={'index': 'top'})\n",
    "        v['top'] = v['top'] + 1\n",
    "        #display(v[['top', 'badprob']])\n",
    "        lista_top_bins = [_.lower().replace('%', '').replace(',',' ') for _ in list(v['bin'])]\n",
    "        #print(lista_top_bins)\n",
    "        dic_maxprob_corte[k] = v[v['bin'] != 'missing']['badprob'].max()\n",
    "    \n",
    "    def search_bin_woe(val):\n",
    "        for el in lista_top_bins:\n",
    "            if val.lower() in el:\n",
    "                return lista_top_bins.index(el) + 1\n",
    "        return 0\n",
    "    \n",
    "    data[col_woe] = data[col_eval].apply(search_bin_woe)\n",
    "    print(\"/\"*100)\n",
    "    print(data[col_woe].value_counts())\n",
    "    \n",
    "    fig, axes = plt.subplots(nrows=1, ncols=2, figsize=(15,10))\n",
    "    # CONTRASTE DEL COMPACTADO DE CATEGORIAS\n",
    "    if not drop:\n",
    "        print(\"/\"*100)\n",
    "        print(\n",
    "            sns.heatmap(\n",
    "                pd.crosstab(data[col_eval], data[new_col], values=data[col_target].apply(lambda _: 1 if _ == val_target else 0), aggfunc=np.mean), \n",
    "                annot=True, center=0.4, cmap=\"viridis\", ax=axes[0]) \n",
    "        )\n",
    "        \n",
    "    print(\"/\"*100)\n",
    "    # CREACION DE  GRUPO LETAL\n",
    "    print(\"Creacion de grupo letal\")\n",
    "    if letal_group:\n",
    "        maximo_prob = data[new_col].max()\n",
    "        print(\".... maxima probabilidad encontrada hacia el target\", maximo_prob)\n",
    "        data[letal_col] = data[new_col].apply(lambda _: maximo_prob if _ >= maximo_prob - window_letal else 0)\n",
    "        \n",
    "        maximo_prob_woe = data[col_woe].max()\n",
    "        data[letal_woe] = data[col_woe].apply(lambda _: maximo_prob_woe if _ >= maximo_prob_woe else 0)\n",
    "        \n",
    "    \n",
    "    # MAP DE CALOR DE CORRELACIONAES LIENALES CON LAS TRES COLUMNAS OBTENDAS INCLUIDO EL TARGET\n",
    "    \n",
    "        print(\n",
    "            sns.heatmap(\n",
    "                data[[letal_col, new_col, letal_woe, col_woe, col_target]].corr(method='pearson'), \n",
    "                annot=True, center=0,cmap='Spectral', ax=axes[1], fmt='g') \n",
    "        )\n",
    "    \n",
    "    return data"
   ]
  },
  {
   "cell_type": "code",
   "execution_count": 13,
   "metadata": {
    "papermill": {
     "duration": 7.81407,
     "end_time": "2020-11-22T02:22:35.847354",
     "exception": false,
     "start_time": "2020-11-22T02:22:28.033284",
     "status": "completed"
    },
    "tags": []
   },
   "outputs": [
    {
     "name": "stdout",
     "output_type": "stream",
     "text": [
      "////////////////////////////////////////////////////////////////////////////////////////////////////\n",
      "0.4    138798\n",
      "1.0     29430\n",
      "0.5     22291\n",
      "0.0     10334\n",
      "Name: category_encoder_prob, dtype: int64\n",
      "[INFO] creating woe binning ...\n",
      "////////////////////////////////////////////////////////////////////////////////////////////////////\n",
      "2    157684\n",
      "1     29430\n",
      "3     13739\n",
      "Name: category_encoder_woe, dtype: int64\n",
      "////////////////////////////////////////////////////////////////////////////////////////////////////\n",
      "AxesSubplot(0.125,0.125;0.281818x0.755)\n",
      "////////////////////////////////////////////////////////////////////////////////////////////////////\n",
      "Creacion de grupo letal\n",
      ".... maxima probabilidad encontrada hacia el target 1.0\n",
      "AxesSubplot(0.547727,0.125;0.281818x0.755)\n"
     ]
    },
    {
     "data": {
      "image/png": "[encoded data removed]",
      "text/plain": [
       "<Figure size 1080x720 with 4 Axes>"
      ]
     },
     "metadata": {
      "needs_background": "light"
     },
     "output_type": "display_data"
    }
   ],
   "source": [
    "df = _encoder_cat_prob(df, 'category', col_target='target_buena_aceptación', window_letal=0.1)"
   ]
  },
  {
   "cell_type": "code",
   "execution_count": null,
   "metadata": {
    "papermill": {
     "duration": 0.033989,
     "end_time": "2020-11-22T02:22:35.915675",
     "exception": false,
     "start_time": "2020-11-22T02:22:35.881686",
     "status": "completed"
    },
    "tags": []
   },
   "outputs": [],
   "source": []
  },
  {
   "cell_type": "markdown",
   "metadata": {
    "papermill": {
     "duration": 0.033573,
     "end_time": "2020-11-22T02:22:35.983335",
     "exception": false,
     "start_time": "2020-11-22T02:22:35.949762",
     "status": "completed"
    },
    "tags": []
   },
   "source": [
    "### EL METODO CREADO MUESTRA MAYOR CORRELACION DIRECTA CON EL TARGET FICTICIO, TANTO EN EL GRUPO CATEGORICO ORDINAL COMO EN EL LETAL =)"
   ]
  },
  {
   "cell_type": "code",
   "execution_count": null,
   "metadata": {
    "papermill": {
     "duration": 0.034868,
     "end_time": "2020-11-22T02:22:36.051701",
     "exception": false,
     "start_time": "2020-11-22T02:22:36.016833",
     "status": "completed"
    },
    "tags": []
   },
   "outputs": [],
   "source": []
  },
  {
   "cell_type": "code",
   "execution_count": null,
   "metadata": {
    "papermill": {
     "duration": 0.033188,
     "end_time": "2020-11-22T02:22:36.119040",
     "exception": false,
     "start_time": "2020-11-22T02:22:36.085852",
     "status": "completed"
    },
    "tags": []
   },
   "outputs": [],
   "source": []
  },
  {
   "cell_type": "code",
   "execution_count": null,
   "metadata": {
    "papermill": {
     "duration": 0.033844,
     "end_time": "2020-11-22T02:22:36.186609",
     "exception": false,
     "start_time": "2020-11-22T02:22:36.152765",
     "status": "completed"
    },
    "tags": []
   },
   "outputs": [],
   "source": []
  }
 ],
 "metadata": {
  "kernelspec": {
   "display_name": "Python 3",
   "language": "python",
   "name": "python3"
  },
  "language_info": {
   "codemirror_mode": {
    "name": "ipython",
    "version": 3
   },
   "file_extension": ".py",
   "mimetype": "text/x-python",
   "name": "python",
   "nbconvert_exporter": "python",
   "pygments_lexer": "ipython3",
   "version": "3.8.3"
  },
  "papermill": {
   "duration": 76.893752,
   "end_time": "2020-11-22T02:22:36.331441",
   "environment_variables": {},
   "exception": null,
   "input_path": "__notebook__.ipynb",
   "output_path": "__notebook__.ipynb",
   "parameters": {},
   "start_time": "2020-11-22T02:21:19.437689",
   "version": "2.1.0"
  }
 },
 "nbformat": 4,
 "nbformat_minor": 4
}
